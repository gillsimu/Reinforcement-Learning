{
 "cells": [
  {
   "cell_type": "code",
   "execution_count": 50,
   "metadata": {},
   "outputs": [
    {
     "name": "stdout",
     "output_type": "stream",
     "text": [
      "146\n",
      "0.6666666666666666\n",
      "238\n",
      "0.6698717948717948\n",
      "250\n",
      "0.67\n",
      "495\n",
      "0.6074074074074074\n",
      "699\n",
      "0.6318407960199005\n",
      "732\n",
      "0.6428571428571429\n",
      "910\n",
      "0.6060606060606061\n",
      "919\n",
      "0.6140350877192983\n",
      "1011\n",
      "0.6821705426356589\n",
      "1088\n",
      "0.6666666666666666\n",
      "1306\n",
      "0.5934959349593496\n",
      "1407\n",
      "0.3333333333333333\n",
      "[['H', 9], ['H', 312], ['H', 300], ['H', 405], ['H', 201], ['H', 168], ['H', 66], ['H', 57], ['H', 129], ['H', 18], ['L', 123], ['L', 6]]\n",
      "Mean length of high gc region: 166.5\n",
      "Mean length of low gc region: 64.5\n",
      "[166.5, 64.5]\n",
      "[1, 2]\n"
     ]
    }
   ],
   "source": [
    "data = \"AGCCCTCCAGGACAGGCTGCATCAGAAGAGGCCATCAAGCAGGTCTGTTCCAAGGGCCTTTGCGTCAGGTGGGCTCAGGATTCCAGGGTGGCTGGACCCCAGGCCCCAGCTCTGCAGCAGGGAGGACGTGGCTGGGCTCGTGAAGCATGTGGGGGTGAGCCCAGGGGCCCCAAGGCAGGGCACCTGGCCTTCAGCCTGCCTCAGCCCTGCCTGTCTCCCAGATCACTGTCCTTCTGCCATGGCCCTGTGGATGCGCCTCCTGCCCCTGCTGGCGCTGCTGGCCCTCTGGGGACCTGACCCAGCCGCAGCCTTTGTGAACCAACACCTGTGCGGCTCACACCTGGTGGAAGCTCTCTACCTAGTGTGCGGGGAACGAGGCTTCTTCTACACACCCAAGACCCGCCGGGAGGCAGAGGACCTGCAGGGTGAGCCAACTGCCCATTGCTGCCCCTGGCCGCCCCCAGCCACCCCCTGCTCCTGGCGCTCCCACCCAGCATGGGCAGAAGGGGGCAGGAGGCTGCCACCCAGCAGGGGGTCAGGTGCACTTTTTTAAAAAGAAGTTCTCTTGGTCACGTCCTAAAAGTGACCAGCTCCCTGTGGCCCAGTCAGAATCTCAGCCTGAGGACGGTGTTGGCTTCGGCAGCCCCGAGATACATCAGAGGGTGGGCACGCTCCTCCCTCCACTCGCCCCTCAAACAAATGCCCCGCAGCCCATTTCTCCACCCTCATTTGATGACCGCAGATTCAAGTGTTTTGTTAAGTAAAGTCCTGGGTGACCTGGGGTCACAGGGTGCCCCACGCTGCCTGCCTCTGGGCGAACACCCCATCACGCCCGGAGGAGGGCGTGGCTGCCTGCCTGAGTGGGCCAGACCCCTGTCGCCAGGCCTCACGGCAGCTCCATAGTCAGGAGATGGGGAAGATGCTGGGGACAGGCCCTGGGGAGAAGTACTGGGATCACCTGTTCAGGCTCCCACTGTGACGCTGCCCCGGGGCGGGGGAAGGAGGTGGGACATGTGGGCGTTGGGGCCTGTAGGTCCACACCCAGTGTGGGTGACCCTCCCTCTAACCTGGGTCCAGCCCGGCTGGAGATGGGTGGGAGTGCGACCTAGGGCTGGCGGGCAGGCGGGCACTGTGTCTCCCTGACTGTGTCCTCCTGTGTCCCTCTGCCTCGCCGCTGTTCCGGAACCTGCTCTGCGCGGCACGTCCTGGCAGTGGGGCAGGTGGAGCTGGGCGGGGGCCCTGGTGCAGGCAGCCTGCAGCCCTTGGCCCTGGAGGGGTCCCTGCAGAAGCGTGGCATTGTGGAACAATGCTGTACCAGCATCTGCTCCCTCTACCAGCTGGAGAACTACTGCAACTAGACGCAGCCCGCAGGCAGCCCCACACCCGCCGCCTCCTGCACCGAGAGAGATGGAATAAAGCCCTTGAACCAGC\"\n",
    "arr=[]\n",
    "h_mean = 0\n",
    "l_mean = 0\n",
    "h_count = 0\n",
    "l_count = 0\n",
    "\n",
    "for i in range(len(data)):\n",
    "    if data[i]=='A'and data[i+1]=='T'and data[i+2]=='G':\n",
    "        j=i\n",
    "        print(i)\n",
    "        count=0\n",
    "        count+=1\n",
    "\n",
    "        i+=3\n",
    "        while i+3<len(data):\n",
    "            x = str(data[i])+str(data[i+1])+str(data[i+2])\n",
    "            #print(i)\n",
    "            if x!='TAA'and x!='TAG' and x!='TGA':\n",
    "\n",
    "                if data[i]=='C' or data[i]=='G':\n",
    "                    count+=1\n",
    "                if data[i+1]=='C' or data[i+1]=='G':\n",
    "                    count+=1\n",
    "                if data[i+2]=='C' or data[i+2]=='G':\n",
    "                    count+=1\n",
    "            else:\n",
    "                break\n",
    "            i+=3\n",
    "\n",
    "        if i>len(data):\n",
    "            i-=3\n",
    "            while i<len(data):\n",
    "                if data[i]=='C' or data[i]=='G':\n",
    "                    count+=1\n",
    "\n",
    "\n",
    "\n",
    "        per = count/((i-j))\n",
    "        print(per)\n",
    "        if per>=0.6 :\n",
    "            arr.append(['H',(i-j)])\n",
    "            h_mean += i-j\n",
    "            h_count += 1\n",
    "        # print(arr)\n",
    "        else:\n",
    "            arr.append(['L',(i-j)])\n",
    "            l_mean += i-j\n",
    "            l_count += 1\n",
    "# print(arr)\n",
    "#print(i)\n",
    "print(arr)\n",
    "print(\"Mean length of high gc region:\",1.0*h_mean/h_count)\n",
    "print(\"Mean length of low gc region:\",1.0*l_mean/l_count)\n",
    "h_mean = 1.0*h_mean/h_count\n",
    "l_mean = 1.0*l_mean/l_count\n",
    "y = []\n",
    "y.append(h_mean)\n",
    "y.append(l_mean)\n",
    "print(y)\n",
    "x = []\n",
    "x.append(1)\n",
    "x.append(2)\n",
    "print(x)"
   ]
  },
  {
   "cell_type": "code",
   "execution_count": 40,
   "metadata": {},
   "outputs": [],
   "source": [
    "import matplotlib.pyplot as plt\n",
    "%matplotlib inline"
   ]
  },
  {
   "cell_type": "code",
   "execution_count": 49,
   "metadata": {},
   "outputs": [
    {
     "data": {
      "image/png": "[encoded data removed]",
      "text/plain": [
       "<Figure size 432x288 with 1 Axes>"
      ]
     },
     "metadata": {
      "needs_background": "light"
     },
     "output_type": "display_data"
    }
   ],
   "source": [
    "plt.bar(x,y,label='GC Content')\n",
    "plt.legend()\n",
    "plt.xlabel('High/Low GC Region For Human')\n",
    "plt.ylabel('% Mean GC Content ')\n",
    "plt.show()"
   ]
  },
  {
   "cell_type": "code",
   "execution_count": 44,
   "metadata": {},
   "outputs": [
    {
     "name": "stdout",
     "output_type": "stream",
     "text": [
      "903\n",
      "0.7371794871794872\n",
      "933\n",
      "0.7619047619047619\n",
      "1553\n",
      "0.5606060606060606\n",
      "1568\n",
      "0.5686274509803921\n",
      "[['H', 156], ['H', 126], ['L', 66], ['L', 51]]\n",
      "Mean length of high gc region: 141.0\n",
      "Mean length of low gc region: 58.5\n",
      "[141.0, 58.5]\n",
      "[1, 2]\n"
     ]
    }
   ],
   "source": [
    "#COW\n",
    "data = \"TCAGTCCCTCAGTGTCCCCTGGGAAGCCGGGGACACTGTGGCTGGGGTGGGTGCACGGGGCTGGGACAGTGGCCAAGGAGACACACGCCTGCTGCCCACCCCACGGCCTGGACCATCACCGGGGCTCGGGGGCAGCCCAGGGACACAGCAGGGGTCCCCCTTTCGCACCACTGCCTGGACTAACGTGGACGATGGGCCCAGGCAGGGCCAGGCGGAGGACTTCACCCCCAGCGGTGCGAGGGAACAGCTTGGCGTGGATCGGGTCCCTCATTAAGACTCTAATGACCCCACGGCCCCAAGAGGTGCTGACGGCCAAGGAGAGGTTCCCGCAGCCCCGGCAGCAGGGAAATGATCCGGAAACTGCAGCCTCAGCCCCCGGGCCATCTGCCGCGCTCCTGGAGGCCCTGATGACGGGCCAGGTGGTGGGCTCAGGGGCTATAAAGCCGGCAGGCCGCAGCAGCCCCCCGCCCTCAGGACCGGCTGCATTCGAGGCTGCCAGCAAGCAGGTCCGTCCGTGGGCTCTGCATCCGCCTGGGTCCGGGGCTGCCCCGCTGGGGCTCAGGGTGTCGGGGCCCAGGTCCACTGAGCGGCAGGGGGATGTGCGCTCTCTCGGAGCACCCGGGGCGGGGGCCCTGGCTGAGGGTCCTGGGTTGGGGGCCCTGGTTGAAGGTGCTGGGCTGGGGGCCCTGGCTGAGGGGCTGGGCTGGGGGACGGCCCTGACTGAGGGTCCTGGGCACCCCTCCCCTGGCTCAGCCCCCGCTGTCGCCAGGTCCTCGCAGCCCCGCCATGGCCCTGTGGACACGCCTGGCGCCCCTGCTGGCCCTGCTGGCGCTCTGGGCCCCCGCCCCGGCCCGCGCCTTCGTCAACCAGCATCTGTGTGGCTCCCACCTGGTGGAGGCGCTGTACCTGGTGTGCGGAGAGCGCGGCTTCTTCTACACGCCCAAGGCCCGCCGGGAGGTGGAGGGCCCCCAGGGTGAGCCCCCGCTGCCCCCGCTCCCCCCCGGTCCCCCTGGCTCCCACCCTGGCCTCCCGCTGGCGCCTGGCAGAAAATCAGGAGAGATTTTTAAAAAGGAAAACCATGTCCTGTTGTTCACATCCTGGAAGTGACCAGCTCCCTGGGGGCTAAGCCAGGACGACCCCCAGGGGGGCCTCACCCCCTCCACCCTGCCTTCTCACCTGGGCCCCCTCACCTCCTCCCATGAGGGCAGCTCTGGGGGGTATCTGACGATGTGAGGCCAATCCAGGGGCCGAGGGTCTTGGTGGGCAGCCCTTGGTGGTGATGGGGGGATGCCCATGGGAGATGCCCCGTCACCCAGAGAGAGGGCCCCGTCCCGGGTGGGCTGGCGGGAGCTGGCGGGACGAGGGGGAAAGGGCGCCTGGGCAGGGTCCCACTCCAAGGCCGGGCAGGGCGGGCAGGGGGGCGTCCGCTGCCTGACCGTCTCCCCGCAGTGGGGGCGCTGGAGCTGGCCGGAGGCCCGGGCGCGGGCGGCCTGGAGGGGCCCCCGCAGAAGCGTGGCATCGTGGAGCAGTGCTGTGCCAGCGTCTGCTCGCTCTACCAGCTGGAGAACTACTGTAACTAGGCCTGCCCCCGACACCAATAAACCCCTTGACGAGCCCTGC\"\n",
    "arr=[]\n",
    "h_mean = 0\n",
    "l_mean = 0\n",
    "h_count = 0\n",
    "l_count = 0\n",
    "\n",
    "for i in range(len(data)):\n",
    "    if data[i]=='A'and data[i+1]=='T'and data[i+2]=='G':\n",
    "        j=i\n",
    "        print(i)\n",
    "        count=0\n",
    "        count+=1\n",
    "\n",
    "        i+=3\n",
    "        while i+3<len(data):\n",
    "            x = str(data[i])+str(data[i+1])+str(data[i+2])\n",
    "            #print(i)\n",
    "            if x!='TAA'and x!='TAG' and x!='TGA':\n",
    "\n",
    "                if data[i]=='C' or data[i]=='G':\n",
    "                    count+=1\n",
    "                if data[i+1]=='C' or data[i+1]=='G':\n",
    "                    count+=1\n",
    "                if data[i+2]=='C' or data[i+2]=='G':\n",
    "                    count+=1\n",
    "            else:\n",
    "                break\n",
    "            i+=3\n",
    "\n",
    "        if i>len(data):\n",
    "            i-=3\n",
    "            while i<len(data):\n",
    "                if data[i]=='C' or data[i]=='G':\n",
    "                    count+=1\n",
    "\n",
    "\n",
    "\n",
    "        per = count/((i-j))\n",
    "        print(per)\n",
    "        if per>=0.6 :\n",
    "            arr.append(['H',(i-j)])\n",
    "            h_mean += i-j\n",
    "            h_count += 1\n",
    "        # print(arr)\n",
    "        else:\n",
    "            arr.append(['L',(i-j)])\n",
    "            l_mean += i-j\n",
    "            l_count += 1\n",
    "# print(arr)\n",
    "#print(i)\n",
    "print(arr)\n",
    "print(\"Mean length of high gc region:\",1.0*h_mean/h_count)\n",
    "print(\"Mean length of low gc region:\",1.0*l_mean/l_count)\n",
    "h_mean = 1.0*h_mean/h_count\n",
    "l_mean = 1.0*l_mean/l_count\n",
    "y = []\n",
    "y.append(h_mean)\n",
    "y.append(l_mean)\n",
    "print(y)\n",
    "x = []\n",
    "x.append(1)\n",
    "x.append(2)\n",
    "print(x)"
   ]
  },
  {
   "cell_type": "code",
   "execution_count": 46,
   "metadata": {},
   "outputs": [
    {
     "data": {
      "image/png": "[encoded data removed]",
      "text/plain": [
       "<Figure size 432x288 with 1 Axes>"
      ]
     },
     "metadata": {
      "needs_background": "light"
     },
     "output_type": "display_data"
    }
   ],
   "source": [
    "plt.bar(x,y,label='GC Content')\n",
    "plt.legend()\n",
    "plt.xlabel('High/Low GC Region For COW')\n",
    "plt.ylabel('% Mean GC Content ')\n",
    "plt.show()"
   ]
  },
  {
   "cell_type": "code",
   "execution_count": 57,
   "metadata": {},
   "outputs": [
    {
     "name": "stdout",
     "output_type": "stream",
     "text": [
      "45\n",
      "0.5333333333333333\n",
      "104\n",
      "0.5870646766169154\n",
      "123\n",
      "0.5952380952380952\n",
      "176\n",
      "0.6090909090909091\n",
      "188\n",
      "0.6069182389937107\n",
      "538\n",
      "0.2777777777777778\n",
      "555\n",
      "0.4166666666666667\n"
     ]
    },
    {
     "ename": "IndexError",
     "evalue": "string index out of range",
     "output_type": "error",
     "traceback": [
      "\u001b[0;31m---------------------------------------------------------------------------\u001b[0m",
      "\u001b[0;31mIndexError\u001b[0m                                Traceback (most recent call last)",
      "\u001b[0;32m<ipython-input-57-b8c6adab2006>\u001b[0m in \u001b[0;36m<module>\u001b[0;34m\u001b[0m\n\u001b[1;32m      8\u001b[0m \u001b[0;34m\u001b[0m\u001b[0m\n\u001b[1;32m      9\u001b[0m \u001b[0;32mfor\u001b[0m \u001b[0mi\u001b[0m \u001b[0;32min\u001b[0m \u001b[0mrange\u001b[0m\u001b[0;34m(\u001b[0m\u001b[0mlen\u001b[0m\u001b[0;34m(\u001b[0m\u001b[0mdata\u001b[0m\u001b[0;34m)\u001b[0m\u001b[0;34m)\u001b[0m\u001b[0;34m:\u001b[0m\u001b[0;34m\u001b[0m\u001b[0;34m\u001b[0m\u001b[0m\n\u001b[0;32m---> 10\u001b[0;31m     \u001b[0;32mif\u001b[0m \u001b[0mdata\u001b[0m\u001b[0;34m[\u001b[0m\u001b[0mi\u001b[0m\u001b[0;34m]\u001b[0m\u001b[0;34m==\u001b[0m\u001b[0;34m'A'\u001b[0m\u001b[0;32mand\u001b[0m \u001b[0mdata\u001b[0m\u001b[0;34m[\u001b[0m\u001b[0mi\u001b[0m\u001b[0;34m+\u001b[0m\u001b[0;36m1\u001b[0m\u001b[0;34m]\u001b[0m\u001b[0;34m==\u001b[0m\u001b[0;34m'T'\u001b[0m\u001b[0;32mand\u001b[0m \u001b[0mdata\u001b[0m\u001b[0;34m[\u001b[0m\u001b[0mi\u001b[0m\u001b[0;34m+\u001b[0m\u001b[0;36m2\u001b[0m\u001b[0;34m]\u001b[0m\u001b[0;34m==\u001b[0m\u001b[0;34m'G'\u001b[0m\u001b[0;34m:\u001b[0m\u001b[0;34m\u001b[0m\u001b[0;34m\u001b[0m\u001b[0m\n\u001b[0m\u001b[1;32m     11\u001b[0m         \u001b[0mj\u001b[0m\u001b[0;34m=\u001b[0m\u001b[0mi\u001b[0m\u001b[0;34m\u001b[0m\u001b[0;34m\u001b[0m\u001b[0m\n\u001b[1;32m     12\u001b[0m         \u001b[0mprint\u001b[0m\u001b[0;34m(\u001b[0m\u001b[0mi\u001b[0m\u001b[0;34m)\u001b[0m\u001b[0;34m\u001b[0m\u001b[0;34m\u001b[0m\u001b[0m\n",
      "\u001b[0;31mIndexError\u001b[0m: string index out of range"
     ]
    }
   ],
   "source": [
    "#RAT\n",
    "data = \"AACCCTAAGTGACCAGCTACAATCATAGACCATCAGCAAGCAGGTATGTACTCTCCTGGGTGAGCCCGGTTCCCCCAGCCAAAACTCTAGGGACTTTAGGAAGGATGTGGGTTCCTCTCTTACATGGACCTTTTCCTAGCCTCAACCCTGCCTATCTTCCAGGTCATTGTTCCAACATGGCCCTGTGGATGCGCTTCCTGCCCCTGCTGGCCCTGCTCGTCCTCTGGGAGCCCAAGCCTGCCCAGGCTTTTGTCAAACAGCACCTTTGTGGTCCTCACCTGGTGGAGGCTCTGTACCTGGTGTGTGGGGAACGTGGTTTCTTCTACACACCCAAGTCCCGTCGTGAAGTGGAGGACCCGCAAGTGCCACAACTGGAGCTGGGTGGAGGCCCGGAGGCCGGGGATCTTCAGACCTTGGCACTGGAGGTTGCCCGGCAGAAGCGTGGCATTGTGGATCAGTGCTGCACCAGCATCTGCTCCCTCTACCAACTGGAGAACTACTGCAACTGAGTCCACCACTCCCCGCCCACCCCTCTGCAATGAATAAAGCCTTTGAATGAGCACCAAAA\"\n",
    "arr=[]\n",
    "h_mean = 0\n",
    "l_mean = 0\n",
    "h_count = 0\n",
    "l_count = 0\n",
    "\n",
    "for i in range(len(data)):\n",
    "    if data[i]=='A'and data[i+1]=='T'and data[i+2]=='G':\n",
    "        j=i\n",
    "        print(i)\n",
    "        count=0\n",
    "        count+=1\n",
    "\n",
    "        i+=3\n",
    "        while i+3<len(data):\n",
    "            x = str(data[i])+str(data[i+1])+str(data[i+2])\n",
    "            #print(i)\n",
    "            if x!='TAA'and x!='TAG' and x!='TGA':\n",
    "\n",
    "                if data[i]=='C' or data[i]=='G':\n",
    "                    count+=1\n",
    "                if data[i+1]=='C' or data[i+1]=='G':\n",
    "                    count+=1\n",
    "                if data[i+2]=='C' or data[i+2]=='G':\n",
    "                    count+=1\n",
    "            else:\n",
    "                break\n",
    "            i+=3\n",
    "\n",
    "        if i>len(data):\n",
    "            i-=3\n",
    "            while i<len(data):\n",
    "                if data[i]=='C' or data[i]=='G':\n",
    "                    count+=1\n",
    "\n",
    "\n",
    "\n",
    "        per = count/((i-j))\n",
    "        print(per)\n",
    "        if per>=0.6 :\n",
    "            arr.append(['H',(i-j)])\n",
    "            h_mean += i-j\n",
    "            h_count += 1\n",
    "        # print(arr)\n",
    "        else:\n",
    "            arr.append(['L',(i-j)])\n",
    "            l_mean += i-j\n",
    "            l_count += 1\n",
    "# print(arr)\n",
    "#print(i)\n",
    "print(arr)\n",
    "print(\"Mean length of high gc region:\",1.0*h_mean/h_count)\n",
    "print(\"Mean length of low gc region:\",1.0*l_mean/l_count)\n",
    "h_mean = 1.0*h_mean/h_count\n",
    "l_mean = 1.0*l_mean/l_count\n",
    "y = []\n",
    "y.append(h_mean)\n",
    "y.append(l_mean)\n",
    "print(y)\n",
    "x = []\n",
    "x.append(1)\n",
    "x.append(2)\n",
    "print(x)"
   ]
  },
  {
   "cell_type": "code",
   "execution_count": 48,
   "metadata": {},
   "outputs": [
    {
     "data": {
      "image/png": "[encoded data removed]",
      "text/plain": [
       "<Figure size 432x288 with 1 Axes>"
      ]
     },
     "metadata": {
      "needs_background": "light"
     },
     "output_type": "display_data"
    }
   ],
   "source": [
    "plt.bar(x,y,label='GC Content')\n",
    "plt.legend()\n",
    "plt.xlabel('High/Low GC Region For RAT')\n",
    "plt.ylabel('% Mean GC Content ')\n",
    "plt.show()"
   ]
  },
  {
   "cell_type": "code",
   "execution_count": null,
   "metadata": {},
   "outputs": [],
   "source": []
  }
 ],
 "metadata": {
  "kernelspec": {
   "display_name": "Python 3",
   "language": "python",
   "name": "python3"
  },
  "language_info": {
   "codemirror_mode": {
    "name": "ipython",
    "version": 3
   },
   "file_extension": ".py",
   "mimetype": "text/x-python",
   "name": "python",
   "nbconvert_exporter": "python",
   "pygments_lexer": "ipython3",
   "version": "3.6.8"
  }
 },
 "nbformat": 4,
 "nbformat_minor": 2
}
