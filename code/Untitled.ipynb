{
 "cells": [
  {
   "cell_type": "code",
   "execution_count": 17,
   "metadata": {},
   "outputs": [
    {
     "name": "stdout",
     "output_type": "stream",
     "text": [
      "355\n",
      "0.6282051282051282\n",
      "385\n",
      "0.6666666666666666\n",
      "651\n",
      "0.3333333333333333\n",
      "946\n",
      "0.660455486542443\n",
      "1312\n",
      "0.5982905982905983\n",
      "1331\n",
      "0.6060606060606061\n",
      "1346\n",
      "0.6190476190476191\n",
      "[['H', 78], ['H', 48], ['L', 3], ['H', 483], ['L', 117], ['H', 99], ['H', 84]]\n",
      "Mean length of high gc region: 158.4\n",
      "Mean length of low gc region: 60.0\n",
      "[158.4, 60.0]\n",
      "[1, 2]\n"
     ]
    }
   ],
   "source": [
    "data = \"AGCCCTCCAGGACAGGCTGCATCAGAAGAGGCCATCAAGCAGGTCTGTTCCAAGGGCCTTTGCGTCAGGTGGGCTCAGGATTCCAGGGTGGCTGGACCCCAGGCCCCAGCTCTGCAGCAGGGAGGACGTGGCTGGGCTCGTGAAGCATGTGGGGGTGAGCCCAGGGGCCCCAAGGCAGGGCACCTGGCCTTCAGCCTGCCTCAGCCCTGCCTGTCTCCCAGATCACTGTCCTTCTGCCATGGCCCTGTGGATGCGCCTCCTGCCCCTGCTGGCGCTGCTGGCCCTCTGGGGACCTGACCCAGCCGCAGCCTTTGTGAACCAACACCTGTGCGGCTCACACCTGGTGGAAGCTCTCTACCTAGTGTGCGGGGAACGAGGCTTCTTCTACACACCCAAGACCCGCCGGGAGGCAGAGGACCTGCAGGGTGAGCCAACTGCCCATTGCTGCCCCTGGCCGCCCCCAGCCACCCCCTGCTCCTGGCGCTCCCACCCAGCATGGGCAGAAGGGGGCAGGAGGCTGCCACCCAGCAGGGGGTCAGGTGCACTTTTTTAAAAAGAAGTTCTCTTGGTCACGTCCTAAAAGTGACCAGCTCCCTGTGGCCCAGTCAGAATCTCAGCCTGAGGACGGTGTTGGCTTCGGCAGCCCCGAGATACATCAGAGGGTGGGCACGCTCCTCCCTCCACTCGCCCCTCAAACAAATGCCCCGCAGCCCATTTCTCCACCCTCATTTGATGACCGCAGATTCAAGTGTTTTGTTAAGTAAAGTCCTGGGTGACCTGGGGTCACAGGGTGCCCCACGCTGCCTGCCTCTGGGCGAACACCCCATCACGCCCGGAGGAGGGCGTGGCTGCCTGCCTGAGTGGGCCAGACCCCTGTCGCCAGGCCTCACGGCAGCTCCATAGTCAGGAGATGGGGAAGATGCTGGGGACAGGCCCTGGGGAGAAGTACTGGGATCACCTGTTCAGGCTCCCACTGTGACGCTGCCCCGGGGCGGGGGAAGGAGGTGGGACATGTGGGCGTTGGGGCCTGTAGGTCCACACCCAGTGTGGGTGACCCTCCCTCTAACCTGGGTCCAGCCCGGCTGGAGATGGGTGGGAGTGCGACCTAGGGCTGGCGGGCAGGCGGGCACTGTGTCTCCCTGACTGTGTCCTCCTGTGTCCCTCTGCCTCGCCGCTGTTCCGGAACCTGCTCTGCGCGGCACGTCCTGGCAGTGGGGCAGGTGGAGCTGGGCGGGGGCCCTGGTGCAGGCAGCCTGCAGCCCTTGGCCCTGGAGGGGTCCCTGCAGAAGCGTGGCATTGTGGAACAATGCTGTACCAGCATCTGCTCCCTCTACCAGCTGGAGAACTACTGCAACTAGACGCAGCCCGCAGGCAGCCCCACACCCGCCGCCTCCTGCACCGAGAGAGATGGAATAAAGCCCTTGAACCAGC\"\n",
    "arr=[]\n",
    "h_mean = 0\n",
    "l_mean = 0\n",
    "h_count = 0\n",
    "l_count = 0\n",
    "\n",
    "for i in range(len(data)):\n",
    "    if data[i]=='T'and data[i+1]=='A'and data[i+2]=='C':\n",
    "        j=i\n",
    "        print(i)\n",
    "        count=0\n",
    "        count+=1\n",
    "\n",
    "        i+=3\n",
    "        while i+3<len(data):\n",
    "            x = str(data[i])+str(data[i+1])+str(data[i+2])\n",
    "            #print(i)\n",
    "            if x!='ATT'and x!='ATC' and x!='ACT':\n",
    "\n",
    "                if data[i]=='C' or data[i]=='G':\n",
    "                    count+=1\n",
    "                if data[i+1]=='C' or data[i+1]=='G':\n",
    "                    count+=1\n",
    "                if data[i+2]=='C' or data[i+2]=='G':\n",
    "                    count+=1\n",
    "            else:\n",
    "                break\n",
    "            i+=3\n",
    "\n",
    "        if i>len(data):\n",
    "            i-=3\n",
    "            while i<len(data):\n",
    "                if data[i]=='C' or data[i]=='G':\n",
    "                    count+=1\n",
    "\n",
    "\n",
    "\n",
    "        per = count/((i-j))\n",
    "        print(per)\n",
    "        if per>=0.6 :\n",
    "            arr.append(['H',(i-j)])\n",
    "            h_mean += i-j\n",
    "            h_count += 1\n",
    "        # print(arr)\n",
    "        else:\n",
    "            arr.append(['L',(i-j)])\n",
    "            l_mean += i-j\n",
    "            l_count += 1\n",
    "# print(arr)\n",
    "#print(i)\n",
    "print(arr)\n",
    "print(\"Mean length of high gc region:\",1.0*h_mean/h_count)\n",
    "print(\"Mean length of low gc region:\",1.0*l_mean/l_count)\n",
    "h_mean = 1.0*h_mean/h_count\n",
    "l_mean = 1.0*l_mean/l_count\n",
    "y = []\n",
    "y.append(h_mean)\n",
    "y.append(l_mean)\n",
    "print(y)\n",
    "x = []\n",
    "x.append(1)\n",
    "x.append(2)\n",
    "print(x)"
   ]
  },
  {
   "cell_type": "code",
   "execution_count": null,
   "metadata": {},
   "outputs": [],
   "source": []
  },
  {
   "cell_type": "code",
   "execution_count": null,
   "metadata": {},
   "outputs": [],
   "source": []
  }
 ],
 "metadata": {
  "kernelspec": {
   "display_name": "Python 3",
   "language": "python",
   "name": "python3"
  },
  "language_info": {
   "codemirror_mode": {
    "name": "ipython",
    "version": 3
   },
   "file_extension": ".py",
   "mimetype": "text/x-python",
   "name": "python",
   "nbconvert_exporter": "python",
   "pygments_lexer": "ipython3",
   "version": "3.6.8"
  }
 },
 "nbformat": 4,
 "nbformat_minor": 2
}
